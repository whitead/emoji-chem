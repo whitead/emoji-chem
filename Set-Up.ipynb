{
 "cells": [
  {
   "cell_type": "code",
   "execution_count": null,
   "id": "be9aaf2b",
   "metadata": {},
   "outputs": [],
   "source": [
    "from rdkit import Chem\n",
    "import emojichem\n",
    "from IPython.display import SVG, display\n",
    "\n",
    "mol = Chem.MolFromSmiles(\"CCN(CC)C(=O)[C@H]1CN([C@@H]2Cc3c[nH]c4c3c(ccc4)C2=C1)C\")\n",
    "\n",
    "\n",
    "drawer = Chem.Draw.rdMolDraw2D.MolDraw2DSVG(300, 250)\n",
    "drawer.drawOptions().bgColor = None\n",
    "drawer.drawOptions().fixedFontSize = 14\n",
    "drawer.DrawMolecule(mol)\n",
    "drawer.FinishDrawing()\n",
    "print(f\"font size: {drawer.FontSize()}\")\n",
    "display(SVG(drawer.GetDrawingText()))\n",
    "\n",
    "emojichem.emoji_draw(\"CCN(CC)C(=O)[C@H]1CN([C@@H]2Cc3c[nH]c4c3c(ccc4)C2=C1)C\")"
   ]
  },
  {
   "cell_type": "code",
   "execution_count": null,
   "id": "ccb21ef5",
   "metadata": {},
   "outputs": [],
   "source": [
    "!pip install mendeleev cairosvg"
   ]
  },
  {
   "cell_type": "code",
   "execution_count": null,
   "id": "640e2093",
   "metadata": {},
   "outputs": [],
   "source": [
    "# getting indices printed in corct order\n",
    "from mendeleev.fetch import fetch_table\n",
    "\n",
    "df = fetch_table(\"elements\")\n",
    "emojis = \"\"\"🥐⏱🚨🍌🍟🔋⭐️\n",
    "       ⌚️💊🎇🥛💥🛰\n",
    "🔦🙈 🌀⚜️📺🚲\n",
    "⛈🚛 🗺📸🚀🛳\n",
    "👩‍👦👥 🤔🔍🎭🎨\n",
    "☢️🍷 🌊💎⛓🍭\n",
    "🔱🚬 ⚛️💻⚙️🍖\n",
    "💣💉 ⚖️🖋🦄🥓\n",
    "🌎🇪🇺 💃☄️🛣📼\n",
    "👩🏻‍🔬🎰 🏰💰⚗️🍴\n",
    "🎓🐳 👁‍🗨🥇🥈🥉\n",
    "🌞💄 💫🌡🏭🌥\n",
    "🐼🌆 🗾🐀📱🥄✈️🤹‍♀️\n",
    "💯😬 📝🚰🤖🍺🖥⛽️\n",
    "🙇🏽🍒 🏇🌈👁💀🌋🌱\n",
    "🏅🌕 💡🦅🌌💅😷🔥\n",
    "      🍅⚡️🐟🥜🤢🪥\n",
    "       🔬🌪🔮🔫👻🎃🎈\"\"\""
   ]
  },
  {
   "cell_type": "code",
   "execution_count": null,
   "id": "3e50ee84",
   "metadata": {},
   "outputs": [],
   "source": [
    "emoji_dict = {}\n",
    "for i, eg in enumerate(emojis.split(\"\\n\")):\n",
    "    group = [e for e in list(eg[::-1]) if len(e) > 0 and e.encode() != b\"\\xef\\xb8\\x8f\"]\n",
    "    for j, e in enumerate(group):\n",
    "        if j >= len(df[df.group_id == i + 1]):\n",
    "            continue\n",
    "        emoji_dict[df[df.group_id == i + 1].iloc[j][\"name\"].lower()] = e\n",
    "with open(\"emoji_dict.txt\", \"w\") as f:\n",
    "    f.write(str(emoji_dict))"
   ]
  }
 ],
 "metadata": {
  "kernelspec": {
   "display_name": "Python 3 (ipykernel)",
   "language": "python",
   "name": "python3"
  },
  "language_info": {
   "codemirror_mode": {
    "name": "ipython",
    "version": 3
   },
   "file_extension": ".py",
   "mimetype": "text/x-python",
   "name": "python",
   "nbconvert_exporter": "python",
   "pygments_lexer": "ipython3",
   "version": "3.10.4"
  }
 },
 "nbformat": 4,
 "nbformat_minor": 5
}
