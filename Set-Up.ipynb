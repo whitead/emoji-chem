{
 "cells": [
  {
   "cell_type": "code",
   "execution_count": null,
   "id": "4e5f360a",
   "metadata": {},
   "outputs": [],
   "source": [
    "!pip install emojichem@https://github.com/whitead/emoji-chem/archive/refs/heads/main.zip\n",
    "import emojichem\n",
    "\n",
    "emojichem.emoji_draw(\"CCN(CC)C(=O)[C@H]1CN([C@@H]2Cc3c[nH]c4c3c(ccc4)C2=C1)C\")"
   ]
  },
  {
   "cell_type": "code",
   "execution_count": null,
   "id": "be9aaf2b",
   "metadata": {},
   "outputs": [],
   "source": [
    "from rdkit import Chem\n",
    "import emojichem\n",
    "from IPython.display import SVG, display\n",
    "\n",
    "mol = Chem.MolFromSmiles(\"CCN(CC)C(=O)[C@H]1CN([C@@H]2Cc3c[nH]c4c3c(ccc4)C2=C1)C\")\n",
    "\n",
    "\n",
    "drawer = Chem.Draw.rdMolDraw2D.MolDraw2DSVG(300, 250)\n",
    "drawer.drawOptions().bgColor = None\n",
    "drawer.drawOptions().fixedFontSize = 14\n",
    "drawer.DrawMolecule(mol)\n",
    "drawer.FinishDrawing()\n",
    "print(f\"font size: {drawer.FontSize()}\")\n",
    "display(SVG(drawer.GetDrawingText()))\n",
    "\n",
    "emojichem.emoji_draw(\"CCN(CC)C(=O)[C@H]1CN([C@@H]2Cc3c[nH]c4c3c(ccc4)C2=C1)C\")"
   ]
  },
  {
   "cell_type": "code",
   "execution_count": null,
   "id": "ccb21ef5",
   "metadata": {},
   "outputs": [],
   "source": [
    "!pip install mendeleev grapheme"
   ]
  },
  {
   "cell_type": "code",
   "execution_count": null,
   "id": "640e2093",
   "metadata": {},
   "outputs": [],
   "source": [
    "# getting indices printed in corct order\n",
    "from mendeleev.fetch import fetch_table\n",
    "import grapheme\n",
    "import re\n",
    "\n",
    "df = fetch_table(\"elements\")\n",
    "emojis = \"\"\" 🥐⏱🚨🍌🍟🔋⭐️\n",
    "     ⌚️💊🎇🥛💥🩻\n",
    "     🌀⚜️📺🚲\n",
    "🔦🙈🗺📸🚀🛳\n",
    "⛈🚛🤔🔍🎭🎨\n",
    "👩‍👦👥🌊💎⛓🍭\n",
    "☢️🍷⚛️💻⚙️🍖\n",
    "🔱🚬⚖️🖋🦄🥓\n",
    "💣💉💃☄️🛣📼\n",
    "🌎🇪🇺🏰💰⚗️🍴\n",
    "👩🏻‍🔬🎰👁‍🗨🥇🥈🥉\n",
    "🎓🐳💫🌡🏭🌥\n",
    "🌞💄🗾🐀📱🥄✈️🤹‍♀️\n",
    "🐼🌆📝🚰🤖🍺🖥⛽️\n",
    "💯😬🏇🌈👁💀🌋🌱\n",
    "🙇🏽🍒💡🦅🌌💅😷🔥\n",
    "🏅🌕🍅⚡️🐟🥜🤢🪥\n",
    "🔬🌪🔮🔫👻🎃🎈\"\"\""
   ]
  },
  {
   "cell_type": "code",
   "execution_count": null,
   "id": "c1cd557f",
   "metadata": {},
   "outputs": [],
   "source": [
    "# WTF fix up groups ?\n",
    "for i in range(58, 72):\n",
    "    g = i - 58 + 4\n",
    "    df.loc[df.atomic_number == i, \"group_id\"] = g\n",
    "for i in range(90, 104):\n",
    "    g = i - 90 + 4\n",
    "    df.loc[df.atomic_number == i, \"group_id\"] = g"
   ]
  },
  {
   "cell_type": "code",
   "execution_count": null,
   "id": "3e50ee84",
   "metadata": {},
   "outputs": [],
   "source": [
    "emoji_dict = {}\n",
    "\n",
    "for i, eg in enumerate(emojis.split(\"\\n\")):\n",
    "    # group = [e for e in list(eg[::-1]) if len(e) > 0 and e.encode() != b'\\xef\\xb8\\x8f']\n",
    "    # group = re.findall(r'\\X', group)\n",
    "    eg = eg.strip()\n",
    "    group = [grapheme.slice(eg, i, i + 1) for i in range(grapheme.length(eg))][::-1]\n",
    "    for j, e in enumerate(group):\n",
    "        emoji_dict[df[df.group_id == i + 1].iloc[j][\"name\"].lower()] = e\n",
    "with open(\"emoji_dict.txt\", \"w\") as f:\n",
    "    f.write(str(emoji_dict))"
   ]
  },
  {
   "cell_type": "code",
   "execution_count": null,
   "id": "8e8ad47b",
   "metadata": {},
   "outputs": [],
   "source": []
  }
 ],
 "metadata": {
  "kernelspec": {
   "display_name": "Python 3 (ipykernel)",
   "language": "python",
   "name": "python3"
  },
  "language_info": {
   "codemirror_mode": {
    "name": "ipython",
    "version": 3
   },
   "file_extension": ".py",
   "mimetype": "text/x-python",
   "name": "python",
   "nbconvert_exporter": "python",
   "pygments_lexer": "ipython3",
   "version": "3.10.4"
  }
 },
 "nbformat": 4,
 "nbformat_minor": 5
}
