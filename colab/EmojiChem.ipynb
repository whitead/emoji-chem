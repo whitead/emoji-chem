{
 "cells": [
  {
   "cell_type": "markdown",
   "metadata": {
    "id": "drcxuk2HPLbI"
   },
   "source": [
    "# Emoji Chem\n",
    "\n",
    "https://github.com/whitead/emoji-chem"
   ]
  },
  {
   "cell_type": "code",
   "execution_count": null,
   "metadata": {
    "cellView": "form",
    "collapsed": true,
    "id": "DGZ0I9Kg1UMA"
   },
   "outputs": [],
   "source": [
    "# @title Install Packages\n",
    "!pip install -U emojichem@https://github.com/whitead/emoji-chem/archive/refs/heads/main.zip"
   ]
  },
  {
   "cell_type": "code",
   "execution_count": null,
   "metadata": {
    "cellView": "form",
    "colab": {
     "base_uri": "https://localhost:8080/",
     "height": 221
    },
    "id": "6SyUt3j11WV2",
    "outputId": "1b79ec5b-77a5-4fda-8a7d-424fe3185fd3"
   },
   "outputs": [],
   "source": [
    "smiles = \"O=C(NCC1CCCCC1N)C2=CC=CC=C2C3=CC=C(F)C=C3C(=O)NC4CCCCC4\"  # @param {type:\"string\"}\n",
    "from rdkit import Chem\n",
    "import emojichem\n",
    "from IPython.display import display, HTML\n",
    "\n",
    "\n",
    "mol = Chem.MolFromSmiles(smiles)\n",
    "emojichem.emoji_draw(mol)"
   ]
  },
  {
   "cell_type": "code",
   "execution_count": null,
   "metadata": {
    "cellView": "form",
    "colab": {
     "base_uri": "https://localhost:8080/",
     "height": 639
    },
    "id": "dRMxu5m126_S",
    "outputId": "4e95a152-b5f5-4709-9d53-06cfa85c4a15"
   },
   "outputs": [],
   "source": [
    "# @title The emojis\n",
    "# @markdown Emoji list was taken (with minor modifications) from Nicola Ga-stan (@nicgaston) in [this tweet](https://twitter.com/nicgaston/status/914311195305193472)\n",
    "\n",
    "import tabulate\n",
    "\n",
    "table = []\n",
    "cols = 4\n",
    "N = len(emojichem.data.elements)\n",
    "for i, e in enumerate(emojichem.data.elements):\n",
    "    j = i % (N // cols)\n",
    "    if j >= len(table):\n",
    "        table.append([e, emojichem.data.emoji_dict[e]])\n",
    "    else:\n",
    "        table[j % N].extend([\"|\", e, emojichem.data.emoji_dict[e]])\n",
    "display(HTML(tabulate.tabulate(table, tablefmt=\"html\")))"
   ]
  }
 ],
 "metadata": {
  "colab": {
   "name": "emoji-chem.ipynb",
   "provenance": []
  },
  "kernelspec": {
   "display_name": "Python 3.7.8 64-bit",
   "language": "python",
   "name": "python3"
  },
  "language_info": {
   "name": "python",
   "version": "3.7.8"
  },
  "vscode": {
   "interpreter": {
    "hash": "3e5a039a7a113538395a7d74f5574b0c5900118222149a18efb009bf03645fce"
   }
  }
 },
 "nbformat": 4,
 "nbformat_minor": 0
}
