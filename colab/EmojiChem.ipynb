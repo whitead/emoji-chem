{
 "cells": [
  {
   "cell_type": "code",
   "execution_count": null,
   "metadata": {
    "cellView": "form",
    "colab": {
     "base_uri": "https://localhost:8080/"
    },
    "collapsed": true,
    "id": "DGZ0I9Kg1UMA",
    "outputId": "123e2442-2ef5-42a5-d010-72fb72a5c86c"
   },
   "outputs": [],
   "source": [
    "# @title Install Packages\n",
    "!pip install emojichem@git+git://github.com/whitead/emoji-chem.git"
   ]
  },
  {
   "cell_type": "code",
   "execution_count": null,
   "metadata": {
    "cellView": "form",
    "colab": {
     "base_uri": "https://localhost:8080/",
     "height": 221
    },
    "id": "6SyUt3j11WV2",
    "outputId": "edcbf62d-6d7c-4bf2-e7f1-244a607e4d95"
   },
   "outputs": [],
   "source": [
    "smiles = (\n",
    "    \"O=C(NCC1CCCCC1N)C2=CC=CC=C2C3=CC=C(F)C=C3C(=O)NC4CCCCC4\"  # @param {type:\"string\"}\n",
    ")\n",
    "from rdkit import Chem\n",
    "import emojichem\n",
    "from IPython.display import SVG, display, HTML\n",
    "\n",
    "\n",
    "mol = Chem.MolFromSmiles(smiles)\n",
    "svg = emojichem.emoji_draw(mol)\n",
    "display(SVG(svg))"
   ]
  },
  {
   "cell_type": "code",
   "execution_count": null,
   "metadata": {
    "cellView": "form",
    "colab": {
     "base_uri": "https://localhost:8080/",
     "height": 660
    },
    "id": "dRMxu5m126_S",
    "outputId": "26eeee88-a717-463b-df56-735acf6770da"
   },
   "outputs": [],
   "source": [
    "# @title The emojis\n",
    "import tabulate\n",
    "\n",
    "table = []\n",
    "cols = 4\n",
    "N = len(emojichem.data.elements)\n",
    "for i, e in enumerate(emojichem.data.elements):\n",
    "    j = i % (N // cols)\n",
    "    if j >= len(table):\n",
    "        table.append([e, emojichem.data.emoji_dict[e]])\n",
    "    else:\n",
    "        table[j % N].extend([\"|\", e, emojichem.data.emoji_dict[e]])\n",
    "display(HTML(tabulate.tabulate(table, tablefmt=\"html\")))"
   ]
  },
  {
   "cell_type": "code",
   "execution_count": null,
   "metadata": {
    "id": "yvzbX9Kt43kD"
   },
   "outputs": [],
   "source": []
  }
 ],
 "metadata": {
  "colab": {
   "collapsed_sections": [],
   "name": "emoji-chem.ipynb",
   "provenance": []
  },
  "kernelspec": {
   "display_name": "Python 3",
   "name": "python3"
  },
  "language_info": {
   "name": "python"
  }
 },
 "nbformat": 4,
 "nbformat_minor": 0
}
