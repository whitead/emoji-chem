{
  "nbformat": 4,
  "nbformat_minor": 0,
  "metadata": {
    "colab": {
      "name": "emoji-chem.ipynb",
      "provenance": [],
      "collapsed_sections": []
    },
    "kernelspec": {
      "name": "python3",
      "display_name": "Python 3"
    },
    "language_info": {
      "name": "python"
    }
  },
  "cells": [
    {
      "cell_type": "code",
      "metadata": {
        "colab": {
          "base_uri": "https://localhost:8080/"
        },
        "cellView": "form",
        "collapsed": true,
        "id": "DGZ0I9Kg1UMA",
        "outputId": "123e2442-2ef5-42a5-d010-72fb72a5c86c"
      },
      "source": [
        "#@title Install Packages\n",
        "!pip install emojichem@git+git://github.com/whitead/emoji-chem.git"
      ],
      "execution_count": 1,
      "outputs": [
        {
          "output_type": "stream",
          "name": "stdout",
          "text": [
            "Collecting emojichem@ git+git://github.com/whitead/emoji-chem.git\n",
            "  Cloning git://github.com/whitead/emoji-chem.git to /tmp/pip-install-z8r6kscb/emojichem_f51b75acf870478a9495b1d766fbbd30\n",
            "  Running command git clone -q git://github.com/whitead/emoji-chem.git /tmp/pip-install-z8r6kscb/emojichem_f51b75acf870478a9495b1d766fbbd30\n",
            "Collecting rdkit-pypi\n",
            "  Downloading rdkit_pypi-2021.3.5-cp37-cp37m-manylinux_2_17_x86_64.manylinux2014_x86_64.whl (19.7 MB)\n",
            "\u001b[K     |████████████████████████████████| 19.7 MB 1.1 MB/s \n",
            "\u001b[?25hRequirement already satisfied: numpy>=1.19 in /usr/local/lib/python3.7/dist-packages (from rdkit-pypi->emojichem@ git+git://github.com/whitead/emoji-chem.git) (1.19.5)\n",
            "Building wheels for collected packages: emojichem\n",
            "  Building wheel for emojichem (setup.py) ... \u001b[?25l\u001b[?25hdone\n",
            "  Created wheel for emojichem: filename=emojichem-0.1-py3-none-any.whl size=4689 sha256=0659b888b7fcfd3ef1aae7cf2121261f772b4889f2a813d6d7fbb2d14567096c\n",
            "  Stored in directory: /tmp/pip-ephem-wheel-cache-wmvo86dk/wheels/8a/86/02/2c2d46373e3f80157401030845b6483f21884a8d965cce32db\n",
            "Successfully built emojichem\n",
            "Installing collected packages: rdkit-pypi, emojichem\n",
            "Successfully installed emojichem-0.1 rdkit-pypi-2021.3.5\n"
          ]
        }
      ]
    },
    {
      "cell_type": "code",
      "metadata": {
        "colab": {
          "base_uri": "https://localhost:8080/",
          "height": 221
        },
        "cellView": "form",
        "id": "6SyUt3j11WV2",
        "outputId": "edcbf62d-6d7c-4bf2-e7f1-244a607e4d95"
      },
      "source": [
        "smiles = \"O=C(NCC1CCCCC1N)C2=CC=CC=C2C3=CC=C(F)C=C3C(=O)NC4CCCCC4\" #@param {type:\"string\"}\n",
        "from rdkit import Chem\n",
        "import emojichem\n",
        "from IPython.display import SVG, display, HTML\n",
        "\n",
        "\n",
        "mol = Chem.MolFromSmiles(smiles)\n",
        "svg = emojichem.emoji_draw(mol)\n",
        "display(SVG(svg))"
      ],
      "execution_count": 11,
      "outputs": [
        {
          "output_type": "display_data",
          "data": {
            "text/plain": [
              "<IPython.core.display.SVG object>"
            ],
            "image/svg+xml": "<svg baseProfile=\"full\" height=\"200px\" version=\"1.1\" viewBox=\"0 0 300 200\" width=\"300px\" xml:space=\"preserve\" xmlns=\"http://www.w3.org/2000/svg\">\n\n<rect height=\"200\" style=\"opacity:1.0;fill:#FFFFFF;stroke:none\" width=\"300\" x=\"0\" y=\"0\"> </rect>\n<path class=\"bond-0 atom-0 atom-1\" d=\"M 176.913,103.555 L 178.993,93.9893\" style=\"fill:none;fill-rule:evenodd;stroke:#FF0000;stroke-width:2.0px;stroke-linecap:butt;stroke-linejoin:miter;stroke-opacity:1\"/>\n<path class=\"bond-0 atom-0 atom-1\" d=\"M 178.993,93.9893 L 181.073,84.4239\" style=\"fill:none;fill-rule:evenodd;stroke:#000000;stroke-width:2.0px;stroke-linecap:butt;stroke-linejoin:miter;stroke-opacity:1\"/>\n<path class=\"bond-0 atom-0 atom-1\" d=\"M 172.291,102.55 L 174.372,92.9842\" style=\"fill:none;fill-rule:evenodd;stroke:#FF0000;stroke-width:2.0px;stroke-linecap:butt;stroke-linejoin:miter;stroke-opacity:1\"/>\n<path class=\"bond-0 atom-0 atom-1\" d=\"M 174.372,92.9842 L 176.452,83.4188\" style=\"fill:none;fill-rule:evenodd;stroke:#000000;stroke-width:2.0px;stroke-linecap:butt;stroke-linejoin:miter;stroke-opacity:1\"/>\n<path class=\"bond-1 atom-1 atom-2\" d=\"M 178.763,83.9213 L 188.46,80.8208\" style=\"fill:none;fill-rule:evenodd;stroke:#000000;stroke-width:2.0px;stroke-linecap:butt;stroke-linejoin:miter;stroke-opacity:1\"/>\n<path class=\"bond-1 atom-1 atom-2\" d=\"M 188.46,80.8208 L 198.157,77.7203\" style=\"fill:none;fill-rule:evenodd;stroke:#0000FF;stroke-width:2.0px;stroke-linecap:butt;stroke-linejoin:miter;stroke-opacity:1\"/>\n<path class=\"bond-10 atom-1 atom-11\" d=\"M 178.763,83.9213 L 161.263,68.0149\" style=\"fill:none;fill-rule:evenodd;stroke:#000000;stroke-width:2.0px;stroke-linecap:butt;stroke-linejoin:miter;stroke-opacity:1\"/>\n<path class=\"bond-2 atom-2 atom-3\" d=\"M 204.419,79.5651 L 211.603,86.0953\" style=\"fill:none;fill-rule:evenodd;stroke:#0000FF;stroke-width:2.0px;stroke-linecap:butt;stroke-linejoin:miter;stroke-opacity:1\"/>\n<path class=\"bond-2 atom-2 atom-3\" d=\"M 211.603,86.0953 L 218.788,92.6255\" style=\"fill:none;fill-rule:evenodd;stroke:#000000;stroke-width:2.0px;stroke-linecap:butt;stroke-linejoin:miter;stroke-opacity:1\"/>\n<path class=\"bond-3 atom-3 atom-4\" d=\"M 218.788,92.6255 L 241.313,85.4234\" style=\"fill:none;fill-rule:evenodd;stroke:#000000;stroke-width:2.0px;stroke-linecap:butt;stroke-linejoin:miter;stroke-opacity:1\"/>\n<path class=\"bond-4 atom-4 atom-5\" d=\"M 241.313,85.4234 L 258.813,101.33\" style=\"fill:none;fill-rule:evenodd;stroke:#000000;stroke-width:2.0px;stroke-linecap:butt;stroke-linejoin:miter;stroke-opacity:1\"/>\n<path class=\"bond-32 atom-9 atom-4\" d=\"M 246.338,62.3148 L 241.313,85.4234\" style=\"fill:none;fill-rule:evenodd;stroke:#000000;stroke-width:2.0px;stroke-linecap:butt;stroke-linejoin:miter;stroke-opacity:1\"/>\n<path class=\"bond-5 atom-5 atom-6\" d=\"M 258.813,101.33 L 281.338,94.1276\" style=\"fill:none;fill-rule:evenodd;stroke:#000000;stroke-width:2.0px;stroke-linecap:butt;stroke-linejoin:miter;stroke-opacity:1\"/>\n<path class=\"bond-6 atom-6 atom-7\" d=\"M 281.338,94.1276 L 286.364,71.019\" style=\"fill:none;fill-rule:evenodd;stroke:#000000;stroke-width:2.0px;stroke-linecap:butt;stroke-linejoin:miter;stroke-opacity:1\"/>\n<path class=\"bond-7 atom-7 atom-8\" d=\"M 286.364,71.019 L 268.864,55.1126\" style=\"fill:none;fill-rule:evenodd;stroke:#000000;stroke-width:2.0px;stroke-linecap:butt;stroke-linejoin:miter;stroke-opacity:1\"/>\n<path class=\"bond-8 atom-8 atom-9\" d=\"M 268.864,55.1126 L 246.338,62.3148\" style=\"fill:none;fill-rule:evenodd;stroke:#000000;stroke-width:2.0px;stroke-linecap:butt;stroke-linejoin:miter;stroke-opacity:1\"/>\n<path class=\"bond-9 atom-9 atom-10\" d=\"M 246.338,62.3148 L 239.154,55.7846\" style=\"fill:none;fill-rule:evenodd;stroke:#000000;stroke-width:2.0px;stroke-linecap:butt;stroke-linejoin:miter;stroke-opacity:1\"/>\n<path class=\"bond-9 atom-9 atom-10\" d=\"M 239.154,55.7846 L 231.97,49.2544\" style=\"fill:none;fill-rule:evenodd;stroke:#0000FF;stroke-width:2.0px;stroke-linecap:butt;stroke-linejoin:miter;stroke-opacity:1\"/>\n<path class=\"bond-11 atom-11 atom-12\" d=\"M 161.263,68.0149 L 166.288,44.9064\" style=\"fill:none;fill-rule:evenodd;stroke:#000000;stroke-width:2.0px;stroke-linecap:butt;stroke-linejoin:miter;stroke-opacity:1\"/>\n<path class=\"bond-11 atom-11 atom-12\" d=\"M 157.395,63.5436 L 160.913,47.3676\" style=\"fill:none;fill-rule:evenodd;stroke:#000000;stroke-width:2.0px;stroke-linecap:butt;stroke-linejoin:miter;stroke-opacity:1\"/>\n<path class=\"bond-33 atom-16 atom-11\" d=\"M 138.737,75.2171 L 161.263,68.0149\" style=\"fill:none;fill-rule:evenodd;stroke:#000000;stroke-width:2.0px;stroke-linecap:butt;stroke-linejoin:miter;stroke-opacity:1\"/>\n<path class=\"bond-12 atom-12 atom-13\" d=\"M 166.288,44.9064 L 148.788,29\" style=\"fill:none;fill-rule:evenodd;stroke:#000000;stroke-width:2.0px;stroke-linecap:butt;stroke-linejoin:miter;stroke-opacity:1\"/>\n<path class=\"bond-13 atom-13 atom-14\" d=\"M 148.788,29 L 126.263,36.2022\" style=\"fill:none;fill-rule:evenodd;stroke:#000000;stroke-width:2.0px;stroke-linecap:butt;stroke-linejoin:miter;stroke-opacity:1\"/>\n<path class=\"bond-13 atom-13 atom-14\" d=\"M 146.85,34.5854 L 131.082,39.6269\" style=\"fill:none;fill-rule:evenodd;stroke:#000000;stroke-width:2.0px;stroke-linecap:butt;stroke-linejoin:miter;stroke-opacity:1\"/>\n<path class=\"bond-14 atom-14 atom-15\" d=\"M 126.263,36.2022 L 121.237,59.3107\" style=\"fill:none;fill-rule:evenodd;stroke:#000000;stroke-width:2.0px;stroke-linecap:butt;stroke-linejoin:miter;stroke-opacity:1\"/>\n<path class=\"bond-15 atom-15 atom-16\" d=\"M 121.237,59.3107 L 138.737,75.2171\" style=\"fill:none;fill-rule:evenodd;stroke:#000000;stroke-width:2.0px;stroke-linecap:butt;stroke-linejoin:miter;stroke-opacity:1\"/>\n<path class=\"bond-15 atom-15 atom-16\" d=\"M 127.044,58.1967 L 139.294,69.3312\" style=\"fill:none;fill-rule:evenodd;stroke:#000000;stroke-width:2.0px;stroke-linecap:butt;stroke-linejoin:miter;stroke-opacity:1\"/>\n<path class=\"bond-16 atom-16 atom-17\" d=\"M 138.737,75.2171 L 133.712,98.3257\" style=\"fill:none;fill-rule:evenodd;stroke:#000000;stroke-width:2.0px;stroke-linecap:butt;stroke-linejoin:miter;stroke-opacity:1\"/>\n<path class=\"bond-17 atom-17 atom-18\" d=\"M 133.712,98.3257 L 151.212,114.232\" style=\"fill:none;fill-rule:evenodd;stroke:#000000;stroke-width:2.0px;stroke-linecap:butt;stroke-linejoin:miter;stroke-opacity:1\"/>\n<path class=\"bond-17 atom-17 atom-18\" d=\"M 133.156,104.212 L 145.406,115.346\" style=\"fill:none;fill-rule:evenodd;stroke:#000000;stroke-width:2.0px;stroke-linecap:butt;stroke-linejoin:miter;stroke-opacity:1\"/>\n<path class=\"bond-34 atom-23 atom-17\" d=\"M 111.187,105.528 L 133.712,98.3257\" style=\"fill:none;fill-rule:evenodd;stroke:#000000;stroke-width:2.0px;stroke-linecap:butt;stroke-linejoin:miter;stroke-opacity:1\"/>\n<path class=\"bond-18 atom-18 atom-19\" d=\"M 151.212,114.232 L 146.187,137.341\" style=\"fill:none;fill-rule:evenodd;stroke:#000000;stroke-width:2.0px;stroke-linecap:butt;stroke-linejoin:miter;stroke-opacity:1\"/>\n<path class=\"bond-19 atom-19 atom-20\" d=\"M 146.187,137.341 L 123.661,144.543\" style=\"fill:none;fill-rule:evenodd;stroke:#000000;stroke-width:2.0px;stroke-linecap:butt;stroke-linejoin:miter;stroke-opacity:1\"/>\n<path class=\"bond-19 atom-19 atom-20\" d=\"M 141.367,133.916 L 125.6,138.957\" style=\"fill:none;fill-rule:evenodd;stroke:#000000;stroke-width:2.0px;stroke-linecap:butt;stroke-linejoin:miter;stroke-opacity:1\"/>\n<path class=\"bond-20 atom-20 atom-21\" d=\"M 123.661,144.543 L 121.577,154.127\" style=\"fill:none;fill-rule:evenodd;stroke:#000000;stroke-width:2.0px;stroke-linecap:butt;stroke-linejoin:miter;stroke-opacity:1\"/>\n<path class=\"bond-20 atom-20 atom-21\" d=\"M 121.577,154.127 L 119.493,163.711\" style=\"fill:none;fill-rule:evenodd;stroke:#33CCCC;stroke-width:2.0px;stroke-linecap:butt;stroke-linejoin:miter;stroke-opacity:1\"/>\n<path class=\"bond-21 atom-20 atom-22\" d=\"M 123.661,144.543 L 106.161,128.636\" style=\"fill:none;fill-rule:evenodd;stroke:#000000;stroke-width:2.0px;stroke-linecap:butt;stroke-linejoin:miter;stroke-opacity:1\"/>\n<path class=\"bond-22 atom-22 atom-23\" d=\"M 106.161,128.636 L 111.187,105.528\" style=\"fill:none;fill-rule:evenodd;stroke:#000000;stroke-width:2.0px;stroke-linecap:butt;stroke-linejoin:miter;stroke-opacity:1\"/>\n<path class=\"bond-22 atom-22 atom-23\" d=\"M 111.537,126.175 L 115.055,109.999\" style=\"fill:none;fill-rule:evenodd;stroke:#000000;stroke-width:2.0px;stroke-linecap:butt;stroke-linejoin:miter;stroke-opacity:1\"/>\n<path class=\"bond-23 atom-23 atom-24\" d=\"M 111.187,105.528 L 93.6868,89.6215\" style=\"fill:none;fill-rule:evenodd;stroke:#000000;stroke-width:2.0px;stroke-linecap:butt;stroke-linejoin:miter;stroke-opacity:1\"/>\n<path class=\"bond-24 atom-24 atom-25\" d=\"M 95.9976,90.124 L 98.0665,80.6106\" style=\"fill:none;fill-rule:evenodd;stroke:#000000;stroke-width:2.0px;stroke-linecap:butt;stroke-linejoin:miter;stroke-opacity:1\"/>\n<path class=\"bond-24 atom-24 atom-25\" d=\"M 98.0665,80.6106 L 100.135,71.0972\" style=\"fill:none;fill-rule:evenodd;stroke:#FF0000;stroke-width:2.0px;stroke-linecap:butt;stroke-linejoin:miter;stroke-opacity:1\"/>\n<path class=\"bond-24 atom-24 atom-25\" d=\"M 91.3759,89.1189 L 93.4448,79.6055\" style=\"fill:none;fill-rule:evenodd;stroke:#000000;stroke-width:2.0px;stroke-linecap:butt;stroke-linejoin:miter;stroke-opacity:1\"/>\n<path class=\"bond-24 atom-24 atom-25\" d=\"M 93.4448,79.6055 L 95.5136,70.0921\" style=\"fill:none;fill-rule:evenodd;stroke:#FF0000;stroke-width:2.0px;stroke-linecap:butt;stroke-linejoin:miter;stroke-opacity:1\"/>\n<path class=\"bond-25 atom-24 atom-26\" d=\"M 93.6868,89.6215 L 83.9897,92.722\" style=\"fill:none;fill-rule:evenodd;stroke:#000000;stroke-width:2.0px;stroke-linecap:butt;stroke-linejoin:miter;stroke-opacity:1\"/>\n<path class=\"bond-25 atom-24 atom-26\" d=\"M 83.9897,92.722 L 74.2926,95.8225\" style=\"fill:none;fill-rule:evenodd;stroke:#0000FF;stroke-width:2.0px;stroke-linecap:butt;stroke-linejoin:miter;stroke-opacity:1\"/>\n<path class=\"bond-26 atom-26 atom-27\" d=\"M 68.0304,93.9777 L 60.846,87.4475\" style=\"fill:none;fill-rule:evenodd;stroke:#0000FF;stroke-width:2.0px;stroke-linecap:butt;stroke-linejoin:miter;stroke-opacity:1\"/>\n<path class=\"bond-26 atom-26 atom-27\" d=\"M 60.846,87.4475 L 53.6616,80.9173\" style=\"fill:none;fill-rule:evenodd;stroke:#000000;stroke-width:2.0px;stroke-linecap:butt;stroke-linejoin:miter;stroke-opacity:1\"/>\n<path class=\"bond-27 atom-27 atom-28\" d=\"M 53.6616,80.9173 L 31.1363,88.1194\" style=\"fill:none;fill-rule:evenodd;stroke:#000000;stroke-width:2.0px;stroke-linecap:butt;stroke-linejoin:miter;stroke-opacity:1\"/>\n<path class=\"bond-35 atom-32 atom-27\" d=\"M 58.6869,57.8087 L 53.6616,80.9173\" style=\"fill:none;fill-rule:evenodd;stroke:#000000;stroke-width:2.0px;stroke-linecap:butt;stroke-linejoin:miter;stroke-opacity:1\"/>\n<path class=\"bond-28 atom-28 atom-29\" d=\"M 31.1363,88.1194 L 13.6364,72.213\" style=\"fill:none;fill-rule:evenodd;stroke:#000000;stroke-width:2.0px;stroke-linecap:butt;stroke-linejoin:miter;stroke-opacity:1\"/>\n<path class=\"bond-29 atom-29 atom-30\" d=\"M 13.6364,72.213 L 18.6617,49.1045\" style=\"fill:none;fill-rule:evenodd;stroke:#000000;stroke-width:2.0px;stroke-linecap:butt;stroke-linejoin:miter;stroke-opacity:1\"/>\n<path class=\"bond-30 atom-30 atom-31\" d=\"M 18.6617,49.1045 L 41.187,41.9023\" style=\"fill:none;fill-rule:evenodd;stroke:#000000;stroke-width:2.0px;stroke-linecap:butt;stroke-linejoin:miter;stroke-opacity:1\"/>\n<path class=\"bond-31 atom-31 atom-32\" d=\"M 41.187,41.9023 L 58.6869,57.8087\" style=\"fill:none;fill-rule:evenodd;stroke:#000000;stroke-width:2.0px;stroke-linecap:butt;stroke-linejoin:miter;stroke-opacity:1\"/>\n<text dominant-baseline=\"middle\" font-size=\"0.8rem\" text-anchor=\"middle\" textLength=\"0.0\" x=\"170.663\" y=\"107.049\">🔥</text><text dominant-baseline=\"middle\" font-size=\"0.8rem\" text-anchor=\"middle\" textLength=\"7.435000000000002\" x=\"202.002\" y=\"73.3705\">😀✨</text><text dominant-baseline=\"middle\" font-size=\"0.8rem\" text-anchor=\"middle\" textLength=\"10.414000000000016\" x=\"222.223\" y=\"43.0598\">😀😀✨</text><text dominant-baseline=\"middle\" font-size=\"0.8rem\" text-anchor=\"middle\" textLength=\"3.9819999999999993\" x=\"120.627\" y=\"164.303\">🔦</text><text dominant-baseline=\"middle\" font-size=\"0.8rem\" text-anchor=\"middle\" textLength=\"0.0\" x=\"95.6378\" y=\"66.5318\">🔥</text><text dominant-baseline=\"middle\" font-size=\"0.8rem\" text-anchor=\"middle\" textLength=\"7.435199999999995\" x=\"71.8757\" y=\"93.475\">😀✨</text></svg>"
          },
          "metadata": {}
        }
      ]
    },
    {
      "cell_type": "code",
      "metadata": {
        "colab": {
          "base_uri": "https://localhost:8080/",
          "height": 660
        },
        "cellView": "form",
        "id": "dRMxu5m126_S",
        "outputId": "26eeee88-a717-463b-df56-735acf6770da"
      },
      "source": [
        "#@title The emojis\n",
        "import tabulate\n",
        "table = []\n",
        "cols = 4\n",
        "N = len(emojichem.data.elements)\n",
        "for i, e in enumerate(emojichem.data.elements):\n",
        "  j = i % (N // cols)\n",
        "  if j >= len(table):\n",
        "    table.append([e, emojichem.data.emoji_dict[e]])\n",
        "  else:\n",
        "    table[j % N].extend(['|', e, emojichem.data.emoji_dict[e]])\n",
        "display(HTML(tabulate.tabulate(table, tablefmt='html')))"
      ],
      "execution_count": 26,
      "outputs": [
        {
          "output_type": "display_data",
          "data": {
            "text/html": [
              "<table>\n",
              "<tbody>\n",
              "<tr><td>hydrogen  </td><td>😀</td><td>|</td><td>zinc        </td><td>🎖 </td><td>|</td><td>neodymium </td><td>🔰</td><td>|</td><td>thorium      </td><td>❄ </td></tr>\n",
              "<tr><td>helium    </td><td>🎈</td><td>|</td><td>gallium     </td><td>🔬</td><td>|</td><td>promethium</td><td>⚡</td><td>|</td><td>protactinium </td><td>🖖</td></tr>\n",
              "<tr><td>lithium   </td><td>🔋</td><td>|</td><td>germanium   </td><td>🎩</td><td>|</td><td>samarium  </td><td>🔛</td><td>|</td><td>uranium      </td><td>🚹</td></tr>\n",
              "<tr><td>beryllium </td><td>🔮</td><td>|</td><td>arsenic     </td><td>🐌</td><td>|</td><td>europium  </td><td>🔆</td><td>|</td><td>neptunium    </td><td>⛈ </td></tr>\n",
              "<tr><td>boron     </td><td>💙</td><td>|</td><td>selenium    </td><td>🤔</td><td>|</td><td>gadolinium</td><td>🌟</td><td>|</td><td>plutonium    </td><td>🔫</td></tr>\n",
              "<tr><td>carbon    </td><td>⚽</td><td>|</td><td>bromine     </td><td>😋</td><td>|</td><td>terbium   </td><td>📒</td><td>|</td><td>americium    </td><td>🇺🇸</td></tr>\n",
              "<tr><td>nitrogen  </td><td>✨</td><td>|</td><td>krypton     </td><td>👻</td><td>|</td><td>dysprosium</td><td>💯</td><td>|</td><td>curium       </td><td>🎏</td></tr>\n",
              "<tr><td>oxygen    </td><td>🔥</td><td>|</td><td>rubidium    </td><td>🔶</td><td>|</td><td>holmium   </td><td>🎂</td><td>|</td><td>berkelium    </td><td>🐫</td></tr>\n",
              "<tr><td>fluorine  </td><td>🔦</td><td>|</td><td>strontium   </td><td>🔢</td><td>|</td><td>erbium    </td><td>💫</td><td>|</td><td>californium  </td><td>🌌</td></tr>\n",
              "<tr><td>neon      </td><td>💡</td><td>|</td><td>yttrium     </td><td>😘</td><td>|</td><td>thulium   </td><td>⚒ </td><td>|</td><td>einsteinium  </td><td>🐈</td></tr>\n",
              "<tr><td>sodium    </td><td>🧂</td><td>|</td><td>zirconium   </td><td>🔹</td><td>|</td><td>ytterbium </td><td>🈲</td><td>|</td><td>fermium      </td><td>💦</td></tr>\n",
              "<tr><td>magnesium </td><td>⚓️</td><td>|</td><td>niobium     </td><td>👿</td><td>|</td><td>lutetium  </td><td>🔚</td><td>|</td><td>mendelevium  </td><td>🎱</td></tr>\n",
              "<tr><td>aluminum  </td><td>🚲</td><td>|</td><td>molybdenum  </td><td>⛏ </td><td>|</td><td>hafnium   </td><td>🔅</td><td>|</td><td>nobelium     </td><td>💥</td></tr>\n",
              "<tr><td>silicon   </td><td>💻</td><td>|</td><td>technetium  </td><td>🌠</td><td>|</td><td>tantalum  </td><td>🔳</td><td>|</td><td>lawrencium   </td><td>🎊</td></tr>\n",
              "<tr><td>phosphorus</td><td>💐</td><td>|</td><td>ruthenium   </td><td>✊</td><td>|</td><td>tungsten  </td><td>💮</td><td>|</td><td>rutherfordium</td><td>🔎</td></tr>\n",
              "<tr><td>sulfur    </td><td>😁</td><td>|</td><td>rhodium     </td><td>🔷</td><td>|</td><td>rhenium   </td><td>🔱</td><td>|</td><td>dubnium      </td><td>🎢</td></tr>\n",
              "<tr><td>chlorine  </td><td>💧</td><td>|</td><td>palladium   </td><td>🎴</td><td>|</td><td>osmium    </td><td>🔟</td><td>|</td><td>seaborgium   </td><td>👹</td></tr>\n",
              "<tr><td>argon     </td><td>☄️ </td><td>|</td><td>silver      </td><td>🥈</td><td>|</td><td>iridium   </td><td>⭐</td><td>|</td><td>bohrium      </td><td>👴</td></tr>\n",
              "<tr><td>potassium </td><td>🔒</td><td>|</td><td>cadmium     </td><td>📿</td><td>|</td><td>platinum  </td><td>🎑</td><td>|</td><td>hassium      </td><td>💣</td></tr>\n",
              "<tr><td>calcium   </td><td>💬</td><td>|</td><td>indium      </td><td>🔙</td><td>|</td><td>gold      </td><td>🥇</td><td>|</td><td>meitnerium   </td><td>💒</td></tr>\n",
              "<tr><td>scandium  </td><td>🔴</td><td>|</td><td>tin         </td><td>🎺</td><td>|</td><td>mercury   </td><td>🦃</td><td>|</td><td>darmstadtium </td><td>👥</td></tr>\n",
              "<tr><td>titanium  </td><td>🏇</td><td>|</td><td>antimony    </td><td>💛</td><td>|</td><td>thallium  </td><td>🔉</td><td>|</td><td>roentgenium  </td><td>🎁</td></tr>\n",
              "<tr><td>vanadium  </td><td>😱</td><td>|</td><td>tellurium   </td><td>🕴 </td><td>|</td><td>lead      </td><td>🤕</td><td>|</td><td>copernicium  </td><td>🚀</td></tr>\n",
              "<tr><td>chromium  </td><td>🔌</td><td>|</td><td>iodine      </td><td>🔭</td><td>|</td><td>bismuth   </td><td>🍫</td><td>|</td><td>nihonium     </td><td>🗻</td></tr>\n",
              "<tr><td>manganese </td><td>❌</td><td>|</td><td>xenon       </td><td>⏪</td><td>|</td><td>polonium  </td><td>🎷</td><td>|</td><td>flerovium    </td><td>👃</td></tr>\n",
              "<tr><td>iron      </td><td>💪</td><td>|</td><td>cesium      </td><td>💤</td><td>|</td><td>astatine  </td><td>💼</td><td>|</td><td>moscovium    </td><td>👽</td></tr>\n",
              "<tr><td>cobalt    </td><td>🔪</td><td>|</td><td>barium      </td><td>🗝 </td><td>|</td><td>radon     </td><td>👁 </td><td>|</td><td>livermorium  </td><td>🆕</td></tr>\n",
              "<tr><td>nickel    </td><td>🔲</td><td>|</td><td>lanthanum   </td><td>⚔ </td><td>|</td><td>francium  </td><td>🐝</td><td>|</td><td>tennessine   </td><td>🐎</td></tr>\n",
              "<tr><td>copper    </td><td>🥉</td><td>|</td><td>cerium      </td><td>🌵</td><td>|</td><td>radium    </td><td>👷</td><td>|</td><td>oganesson    </td><td>😙</td></tr>\n",
              "<tr><td>silver    </td><td>🥈</td><td>|</td><td>praseodymium</td><td>🇹🇭</td><td>|</td><td>actinium  </td><td>🏆</td><td>|</td><td>ununennium   </td><td>😶</td></tr>\n",
              "</tbody>\n",
              "</table>"
            ],
            "text/plain": [
              "<IPython.core.display.HTML object>"
            ]
          },
          "metadata": {}
        }
      ]
    },
    {
      "cell_type": "code",
      "metadata": {
        "id": "yvzbX9Kt43kD"
      },
      "source": [
        ""
      ],
      "execution_count": null,
      "outputs": []
    }
  ]
}